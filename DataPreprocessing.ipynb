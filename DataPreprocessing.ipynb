{
  "nbformat": 4,
  "nbformat_minor": 0,
  "metadata": {
    "colab": {
      "name": "DataPreprocessing.ipynb",
      "provenance": [],
      "collapsed_sections": [],
      "toc_visible": true
    },
    "kernelspec": {
      "name": "python3",
      "display_name": "Python 3"
    },
    "accelerator": "GPU"
  },
  "cells": [
    {
      "cell_type": "markdown",
      "metadata": {
        "id": "a6K8tZ0a-Rr7",
        "colab_type": "text"
      },
      "source": [
        "#Data Preprocessing"
      ]
    },
    {
      "cell_type": "code",
      "metadata": {
        "id": "O_NcSjC_-RS_",
        "colab_type": "code",
        "colab": {}
      },
      "source": [
        "#Importing required libraries\n",
        "\n",
        "from torchvision.datasets import ImageFolder\n",
        "from torchvision import transforms\n",
        "import numpy as np\n",
        "import torch"
      ],
      "execution_count": null,
      "outputs": []
    },
    {
      "cell_type": "code",
      "metadata": {
        "id": "p6NnIfn1Adut",
        "colab_type": "code",
        "colab": {}
      },
      "source": [
        "class Preprocessing():\n",
        "    # This class will transforms every images into the applied transforms.\n",
        "    # And it returns the dataset as tensor dataset and the categories\n",
        "\n",
        "    def __init__(self, path=None, img=None):\n",
        "        '''\n",
        "        params: path: (str) directory to the image folder\n",
        "        params: array: (array) image array\n",
        "        '''\n",
        "        self.directory = path\n",
        "        self.img = img\n",
        "    \n",
        "    def __image_transformation(self):\n",
        "        '''\n",
        "        params: None\n",
        "        return: transformations\n",
        "        '''\n",
        "        transform = transforms.Compose([\n",
        "                transforms.Resize(134),\n",
        "                transforms.CenterCrop(128),\n",
        "                transforms.Grayscale(1),\n",
        "                transforms.ToTensor(),\n",
        "                transforms.Normalize(0.5,0.5)\n",
        "        ])\n",
        "        return transform\n",
        "    \n",
        "    \n",
        "    def preprocessed_arrays(self):\n",
        "        #For predicting\n",
        "        '''\n",
        "        params: None\n",
        "        return: (array) single Tensor data\n",
        "        '''\n",
        "        img = self.img\n",
        "        transforms =  self.__image_transformation()\n",
        "        return torch.tensor(np.expand_dims(transforms(img),0))\n",
        "\n",
        "    def preprocessed_dataset(self):\n",
        "        '''\n",
        "        params: None\n",
        "        return: Tensor dataset\n",
        "        '''\n",
        "        #Using torch's ImageFolder to get data from directory and applying\n",
        "                                                                #transforms\n",
        "        transformations =  transforms.Compose([\n",
        "                transforms.RandomHorizontalFlip(),\n",
        "                transforms.RandomChoice([transforms.RandomRotation(30),\n",
        "                                         transforms.RandomVerticalFlip(0.2)]),\n",
        "                transforms.RandomPerspective(0.4,p=0.5),\n",
        "                self.__image_transformation()])\n",
        "        \n",
        "        dataset_train = ImageFolder(self.directory['train'], \n",
        "                                transform= transformations)\n",
        "        dataset_test = ImageFolder(self.directory['test'], \n",
        "                                transform=  self.__image_transformation())\n",
        "        \n",
        "    \n",
        "        return dataset_train, dataset_test\n"
      ],
      "execution_count": null,
      "outputs": []
    },
    {
      "cell_type": "code",
      "metadata": {
        "id": "r6ec46yxgWbu",
        "colab_type": "code",
        "colab": {}
      },
      "source": [
        ""
      ],
      "execution_count": null,
      "outputs": []
    }
  ]
}