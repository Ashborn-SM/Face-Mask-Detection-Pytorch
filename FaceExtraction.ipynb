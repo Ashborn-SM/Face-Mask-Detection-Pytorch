{
  "nbformat": 4,
  "nbformat_minor": 0,
  "metadata": {
    "colab": {
      "name": "FaceExtraction.ipynb",
      "provenance": [],
      "collapsed_sections": []
    },
    "kernelspec": {
      "name": "python3",
      "display_name": "Python 3"
    }
  },
  "cells": [
    {
      "cell_type": "markdown",
      "metadata": {
        "id": "g7HmeiKGDjsJ",
        "colab_type": "text"
      },
      "source": [
        "The dataset contains irrelevant things like the background behind the face and \n",
        "upper part of the body. Training with those irrelevant stuffs makes the network\n",
        "poor during testing."
      ]
    },
    {
      "cell_type": "code",
      "metadata": {
        "id": "_1JLukWpDpHM",
        "colab_type": "code",
        "colab": {
          "base_uri": "https://localhost:8080/",
          "height": 225
        },
        "outputId": "25b84d8e-cad1-4dcd-8168-453a7ba1966b"
      },
      "source": [
        "#Importing libraries\n",
        "import os\n",
        "from PIL import Image\n",
        "import matplotlib.pyplot as plt\n",
        "import torchvision.transforms as t\n",
        "from math import ceil as r\n",
        "!pip install facenet_pytorch\n",
        "from facenet_pytorch import MTCNN"
      ],
      "execution_count": null,
      "outputs": [
        {
          "output_type": "stream",
          "text": [
            "Collecting facenet_pytorch\n",
            "\u001b[?25l  Downloading https://files.pythonhosted.org/packages/58/26/9dbb553500bff164cdcd491785cfe55dcbb34b431d44f655640476db8d82/facenet_pytorch-2.2.9-py3-none-any.whl (1.9MB)\n",
            "\r\u001b[K     |▏                               | 10kB 18.2MB/s eta 0:00:01\r\u001b[K     |▍                               | 20kB 6.2MB/s eta 0:00:01\r\u001b[K     |▌                               | 30kB 6.0MB/s eta 0:00:01\r\u001b[K     |▊                               | 40kB 6.8MB/s eta 0:00:01\r\u001b[K     |▉                               | 51kB 6.3MB/s eta 0:00:01\r\u001b[K     |█                               | 61kB 7.0MB/s eta 0:00:01\r\u001b[K     |█▏                              | 71kB 7.3MB/s eta 0:00:01\r\u001b[K     |█▍                              | 81kB 7.9MB/s eta 0:00:01\r\u001b[K     |█▋                              | 92kB 7.4MB/s eta 0:00:01\r\u001b[K     |█▊                              | 102kB 7.8MB/s eta 0:00:01\r\u001b[K     |██                              | 112kB 7.8MB/s eta 0:00:01\r\u001b[K     |██                              | 122kB 7.8MB/s eta 0:00:01\r\u001b[K     |██▎                             | 133kB 7.8MB/s eta 0:00:01\r\u001b[K     |██▍                             | 143kB 7.8MB/s eta 0:00:01\r\u001b[K     |██▋                             | 153kB 7.8MB/s eta 0:00:01\r\u001b[K     |██▉                             | 163kB 7.8MB/s eta 0:00:01\r\u001b[K     |███                             | 174kB 7.8MB/s eta 0:00:01\r\u001b[K     |███▏                            | 184kB 7.8MB/s eta 0:00:01\r\u001b[K     |███▎                            | 194kB 7.8MB/s eta 0:00:01\r\u001b[K     |███▌                            | 204kB 7.8MB/s eta 0:00:01\r\u001b[K     |███▋                            | 215kB 7.8MB/s eta 0:00:01\r\u001b[K     |███▉                            | 225kB 7.8MB/s eta 0:00:01\r\u001b[K     |████                            | 235kB 7.8MB/s eta 0:00:01\r\u001b[K     |████▏                           | 245kB 7.8MB/s eta 0:00:01\r\u001b[K     |████▍                           | 256kB 7.8MB/s eta 0:00:01\r\u001b[K     |████▌                           | 266kB 7.8MB/s eta 0:00:01\r\u001b[K     |████▊                           | 276kB 7.8MB/s eta 0:00:01\r\u001b[K     |████▉                           | 286kB 7.8MB/s eta 0:00:01\r\u001b[K     |█████                           | 296kB 7.8MB/s eta 0:00:01\r\u001b[K     |█████▎                          | 307kB 7.8MB/s eta 0:00:01\r\u001b[K     |█████▍                          | 317kB 7.8MB/s eta 0:00:01\r\u001b[K     |█████▋                          | 327kB 7.8MB/s eta 0:00:01\r\u001b[K     |█████▊                          | 337kB 7.8MB/s eta 0:00:01\r\u001b[K     |██████                          | 348kB 7.8MB/s eta 0:00:01\r\u001b[K     |██████                          | 358kB 7.8MB/s eta 0:00:01\r\u001b[K     |██████▎                         | 368kB 7.8MB/s eta 0:00:01\r\u001b[K     |██████▌                         | 378kB 7.8MB/s eta 0:00:01\r\u001b[K     |██████▋                         | 389kB 7.8MB/s eta 0:00:01\r\u001b[K     |██████▉                         | 399kB 7.8MB/s eta 0:00:01\r\u001b[K     |███████                         | 409kB 7.8MB/s eta 0:00:01\r\u001b[K     |███████▏                        | 419kB 7.8MB/s eta 0:00:01\r\u001b[K     |███████▎                        | 430kB 7.8MB/s eta 0:00:01\r\u001b[K     |███████▌                        | 440kB 7.8MB/s eta 0:00:01\r\u001b[K     |███████▊                        | 450kB 7.8MB/s eta 0:00:01\r\u001b[K     |███████▉                        | 460kB 7.8MB/s eta 0:00:01\r\u001b[K     |████████                        | 471kB 7.8MB/s eta 0:00:01\r\u001b[K     |████████▏                       | 481kB 7.8MB/s eta 0:00:01\r\u001b[K     |████████▍                       | 491kB 7.8MB/s eta 0:00:01\r\u001b[K     |████████▌                       | 501kB 7.8MB/s eta 0:00:01\r\u001b[K     |████████▊                       | 512kB 7.8MB/s eta 0:00:01\r\u001b[K     |█████████                       | 522kB 7.8MB/s eta 0:00:01\r\u001b[K     |█████████                       | 532kB 7.8MB/s eta 0:00:01\r\u001b[K     |█████████▎                      | 542kB 7.8MB/s eta 0:00:01\r\u001b[K     |█████████▍                      | 552kB 7.8MB/s eta 0:00:01\r\u001b[K     |█████████▋                      | 563kB 7.8MB/s eta 0:00:01\r\u001b[K     |█████████▊                      | 573kB 7.8MB/s eta 0:00:01\r\u001b[K     |██████████                      | 583kB 7.8MB/s eta 0:00:01\r\u001b[K     |██████████▏                     | 593kB 7.8MB/s eta 0:00:01\r\u001b[K     |██████████▎                     | 604kB 7.8MB/s eta 0:00:01\r\u001b[K     |██████████▌                     | 614kB 7.8MB/s eta 0:00:01\r\u001b[K     |██████████▋                     | 624kB 7.8MB/s eta 0:00:01\r\u001b[K     |██████████▉                     | 634kB 7.8MB/s eta 0:00:01\r\u001b[K     |███████████                     | 645kB 7.8MB/s eta 0:00:01\r\u001b[K     |███████████▏                    | 655kB 7.8MB/s eta 0:00:01\r\u001b[K     |███████████▍                    | 665kB 7.8MB/s eta 0:00:01\r\u001b[K     |███████████▌                    | 675kB 7.8MB/s eta 0:00:01\r\u001b[K     |███████████▊                    | 686kB 7.8MB/s eta 0:00:01\r\u001b[K     |███████████▉                    | 696kB 7.8MB/s eta 0:00:01\r\u001b[K     |████████████                    | 706kB 7.8MB/s eta 0:00:01\r\u001b[K     |████████████▏                   | 716kB 7.8MB/s eta 0:00:01\r\u001b[K     |████████████▍                   | 727kB 7.8MB/s eta 0:00:01\r\u001b[K     |████████████▋                   | 737kB 7.8MB/s eta 0:00:01\r\u001b[K     |████████████▊                   | 747kB 7.8MB/s eta 0:00:01\r\u001b[K     |█████████████                   | 757kB 7.8MB/s eta 0:00:01\r\u001b[K     |█████████████                   | 768kB 7.8MB/s eta 0:00:01\r\u001b[K     |█████████████▎                  | 778kB 7.8MB/s eta 0:00:01\r\u001b[K     |█████████████▍                  | 788kB 7.8MB/s eta 0:00:01\r\u001b[K     |█████████████▋                  | 798kB 7.8MB/s eta 0:00:01\r\u001b[K     |█████████████▉                  | 808kB 7.8MB/s eta 0:00:01\r\u001b[K     |██████████████                  | 819kB 7.8MB/s eta 0:00:01\r\u001b[K     |██████████████▏                 | 829kB 7.8MB/s eta 0:00:01\r\u001b[K     |██████████████▎                 | 839kB 7.8MB/s eta 0:00:01\r\u001b[K     |██████████████▌                 | 849kB 7.8MB/s eta 0:00:01\r\u001b[K     |██████████████▋                 | 860kB 7.8MB/s eta 0:00:01\r\u001b[K     |██████████████▉                 | 870kB 7.8MB/s eta 0:00:01\r\u001b[K     |███████████████                 | 880kB 7.8MB/s eta 0:00:01\r\u001b[K     |███████████████▏                | 890kB 7.8MB/s eta 0:00:01\r\u001b[K     |███████████████▍                | 901kB 7.8MB/s eta 0:00:01\r\u001b[K     |███████████████▌                | 911kB 7.8MB/s eta 0:00:01\r\u001b[K     |███████████████▊                | 921kB 7.8MB/s eta 0:00:01\r\u001b[K     |███████████████▉                | 931kB 7.8MB/s eta 0:00:01\r\u001b[K     |████████████████                | 942kB 7.8MB/s eta 0:00:01\r\u001b[K     |████████████████▏               | 952kB 7.8MB/s eta 0:00:01\r\u001b[K     |████████████████▍               | 962kB 7.8MB/s eta 0:00:01\r\u001b[K     |████████████████▋               | 972kB 7.8MB/s eta 0:00:01\r\u001b[K     |████████████████▊               | 983kB 7.8MB/s eta 0:00:01\r\u001b[K     |█████████████████               | 993kB 7.8MB/s eta 0:00:01\r\u001b[K     |█████████████████               | 1.0MB 7.8MB/s eta 0:00:01\r\u001b[K     |█████████████████▎              | 1.0MB 7.8MB/s eta 0:00:01\r\u001b[K     |█████████████████▍              | 1.0MB 7.8MB/s eta 0:00:01\r\u001b[K     |█████████████████▋              | 1.0MB 7.8MB/s eta 0:00:01\r\u001b[K     |█████████████████▉              | 1.0MB 7.8MB/s eta 0:00:01\r\u001b[K     |██████████████████              | 1.1MB 7.8MB/s eta 0:00:01\r\u001b[K     |██████████████████▏             | 1.1MB 7.8MB/s eta 0:00:01\r\u001b[K     |██████████████████▎             | 1.1MB 7.8MB/s eta 0:00:01\r\u001b[K     |██████████████████▌             | 1.1MB 7.8MB/s eta 0:00:01\r\u001b[K     |██████████████████▋             | 1.1MB 7.8MB/s eta 0:00:01\r\u001b[K     |██████████████████▉             | 1.1MB 7.8MB/s eta 0:00:01\r\u001b[K     |███████████████████             | 1.1MB 7.8MB/s eta 0:00:01\r\u001b[K     |███████████████████▏            | 1.1MB 7.8MB/s eta 0:00:01\r\u001b[K     |███████████████████▍            | 1.1MB 7.8MB/s eta 0:00:01\r\u001b[K     |███████████████████▌            | 1.1MB 7.8MB/s eta 0:00:01\r\u001b[K     |███████████████████▊            | 1.2MB 7.8MB/s eta 0:00:01\r\u001b[K     |███████████████████▉            | 1.2MB 7.8MB/s eta 0:00:01\r\u001b[K     |████████████████████            | 1.2MB 7.8MB/s eta 0:00:01\r\u001b[K     |████████████████████▎           | 1.2MB 7.8MB/s eta 0:00:01\r\u001b[K     |████████████████████▍           | 1.2MB 7.8MB/s eta 0:00:01\r\u001b[K     |████████████████████▋           | 1.2MB 7.8MB/s eta 0:00:01\r\u001b[K     |████████████████████▊           | 1.2MB 7.8MB/s eta 0:00:01\r\u001b[K     |█████████████████████           | 1.2MB 7.8MB/s eta 0:00:01\r\u001b[K     |█████████████████████           | 1.2MB 7.8MB/s eta 0:00:01\r\u001b[K     |█████████████████████▎          | 1.2MB 7.8MB/s eta 0:00:01\r\u001b[K     |█████████████████████▌          | 1.3MB 7.8MB/s eta 0:00:01\r\u001b[K     |█████████████████████▋          | 1.3MB 7.8MB/s eta 0:00:01\r\u001b[K     |█████████████████████▉          | 1.3MB 7.8MB/s eta 0:00:01\r\u001b[K     |██████████████████████          | 1.3MB 7.8MB/s eta 0:00:01\r\u001b[K     |██████████████████████▏         | 1.3MB 7.8MB/s eta 0:00:01\r\u001b[K     |██████████████████████▎         | 1.3MB 7.8MB/s eta 0:00:01\r\u001b[K     |██████████████████████▌         | 1.3MB 7.8MB/s eta 0:00:01\r\u001b[K     |██████████████████████▊         | 1.3MB 7.8MB/s eta 0:00:01\r\u001b[K     |██████████████████████▉         | 1.3MB 7.8MB/s eta 0:00:01\r\u001b[K     |███████████████████████         | 1.4MB 7.8MB/s eta 0:00:01\r\u001b[K     |███████████████████████▏        | 1.4MB 7.8MB/s eta 0:00:01\r\u001b[K     |███████████████████████▍        | 1.4MB 7.8MB/s eta 0:00:01\r\u001b[K     |███████████████████████▌        | 1.4MB 7.8MB/s eta 0:00:01\r\u001b[K     |███████████████████████▊        | 1.4MB 7.8MB/s eta 0:00:01\r\u001b[K     |████████████████████████        | 1.4MB 7.8MB/s eta 0:00:01\r\u001b[K     |████████████████████████        | 1.4MB 7.8MB/s eta 0:00:01\r\u001b[K     |████████████████████████▎       | 1.4MB 7.8MB/s eta 0:00:01\r\u001b[K     |████████████████████████▍       | 1.4MB 7.8MB/s eta 0:00:01\r\u001b[K     |████████████████████████▋       | 1.4MB 7.8MB/s eta 0:00:01\r\u001b[K     |████████████████████████▊       | 1.5MB 7.8MB/s eta 0:00:01\r\u001b[K     |█████████████████████████       | 1.5MB 7.8MB/s eta 0:00:01\r\u001b[K     |█████████████████████████▏      | 1.5MB 7.8MB/s eta 0:00:01\r\u001b[K     |█████████████████████████▎      | 1.5MB 7.8MB/s eta 0:00:01\r\u001b[K     |█████████████████████████▌      | 1.5MB 7.8MB/s eta 0:00:01\r\u001b[K     |█████████████████████████▋      | 1.5MB 7.8MB/s eta 0:00:01\r\u001b[K     |█████████████████████████▉      | 1.5MB 7.8MB/s eta 0:00:01\r\u001b[K     |██████████████████████████      | 1.5MB 7.8MB/s eta 0:00:01\r\u001b[K     |██████████████████████████▏     | 1.5MB 7.8MB/s eta 0:00:01\r\u001b[K     |██████████████████████████▍     | 1.5MB 7.8MB/s eta 0:00:01\r\u001b[K     |██████████████████████████▌     | 1.6MB 7.8MB/s eta 0:00:01\r\u001b[K     |██████████████████████████▊     | 1.6MB 7.8MB/s eta 0:00:01\r\u001b[K     |██████████████████████████▉     | 1.6MB 7.8MB/s eta 0:00:01\r\u001b[K     |███████████████████████████     | 1.6MB 7.8MB/s eta 0:00:01\r\u001b[K     |███████████████████████████▏    | 1.6MB 7.8MB/s eta 0:00:01\r\u001b[K     |███████████████████████████▍    | 1.6MB 7.8MB/s eta 0:00:01\r\u001b[K     |███████████████████████████▋    | 1.6MB 7.8MB/s eta 0:00:01\r\u001b[K     |███████████████████████████▊    | 1.6MB 7.8MB/s eta 0:00:01\r\u001b[K     |████████████████████████████    | 1.6MB 7.8MB/s eta 0:00:01\r\u001b[K     |████████████████████████████    | 1.6MB 7.8MB/s eta 0:00:01\r\u001b[K     |████████████████████████████▎   | 1.7MB 7.8MB/s eta 0:00:01\r\u001b[K     |████████████████████████████▍   | 1.7MB 7.8MB/s eta 0:00:01\r\u001b[K     |████████████████████████████▋   | 1.7MB 7.8MB/s eta 0:00:01\r\u001b[K     |████████████████████████████▉   | 1.7MB 7.8MB/s eta 0:00:01\r\u001b[K     |█████████████████████████████   | 1.7MB 7.8MB/s eta 0:00:01\r\u001b[K     |█████████████████████████████▏  | 1.7MB 7.8MB/s eta 0:00:01\r\u001b[K     |█████████████████████████████▎  | 1.7MB 7.8MB/s eta 0:00:01\r\u001b[K     |█████████████████████████████▌  | 1.7MB 7.8MB/s eta 0:00:01\r\u001b[K     |█████████████████████████████▋  | 1.7MB 7.8MB/s eta 0:00:01\r\u001b[K     |█████████████████████████████▉  | 1.8MB 7.8MB/s eta 0:00:01\r\u001b[K     |██████████████████████████████  | 1.8MB 7.8MB/s eta 0:00:01\r\u001b[K     |██████████████████████████████▏ | 1.8MB 7.8MB/s eta 0:00:01\r\u001b[K     |██████████████████████████████▍ | 1.8MB 7.8MB/s eta 0:00:01\r\u001b[K     |██████████████████████████████▌ | 1.8MB 7.8MB/s eta 0:00:01\r\u001b[K     |██████████████████████████████▊ | 1.8MB 7.8MB/s eta 0:00:01\r\u001b[K     |██████████████████████████████▉ | 1.8MB 7.8MB/s eta 0:00:01\r\u001b[K     |███████████████████████████████ | 1.8MB 7.8MB/s eta 0:00:01\r\u001b[K     |███████████████████████████████▎| 1.8MB 7.8MB/s eta 0:00:01\r\u001b[K     |███████████████████████████████▍| 1.8MB 7.8MB/s eta 0:00:01\r\u001b[K     |███████████████████████████████▋| 1.9MB 7.8MB/s eta 0:00:01\r\u001b[K     |███████████████████████████████▊| 1.9MB 7.8MB/s eta 0:00:01\r\u001b[K     |████████████████████████████████| 1.9MB 7.8MB/s eta 0:00:01\r\u001b[K     |████████████████████████████████| 1.9MB 7.8MB/s \n",
            "\u001b[?25hRequirement already satisfied: requests in /usr/local/lib/python3.6/dist-packages (from facenet_pytorch) (2.23.0)\n",
            "Requirement already satisfied: numpy in /usr/local/lib/python3.6/dist-packages (from facenet_pytorch) (1.18.5)\n",
            "Requirement already satisfied: idna<3,>=2.5 in /usr/local/lib/python3.6/dist-packages (from requests->facenet_pytorch) (2.9)\n",
            "Requirement already satisfied: urllib3!=1.25.0,!=1.25.1,<1.26,>=1.21.1 in /usr/local/lib/python3.6/dist-packages (from requests->facenet_pytorch) (1.24.3)\n",
            "Requirement already satisfied: certifi>=2017.4.17 in /usr/local/lib/python3.6/dist-packages (from requests->facenet_pytorch) (2020.6.20)\n",
            "Requirement already satisfied: chardet<4,>=3.0.2 in /usr/local/lib/python3.6/dist-packages (from requests->facenet_pytorch) (3.0.4)\n",
            "Installing collected packages: facenet-pytorch\n",
            "Successfully installed facenet-pytorch-2.2.9\n"
          ],
          "name": "stdout"
        }
      ]
    },
    {
      "cell_type": "code",
      "metadata": {
        "id": "ZG5nqIShDaup",
        "colab_type": "code",
        "colab": {
          "base_uri": "https://localhost:8080/",
          "height": 34
        },
        "outputId": "ec2e3d9b-2c0d-4df5-f670-e2c186a4ff27"
      },
      "source": [
        "#mounting\n",
        "from google.colab import drive\n",
        "drive.mount('/content/drive')"
      ],
      "execution_count": null,
      "outputs": [
        {
          "output_type": "stream",
          "text": [
            "Drive already mounted at /content/drive; to attempt to forcibly remount, call drive.mount(\"/content/drive\", force_remount=True).\n"
          ],
          "name": "stdout"
        }
      ]
    },
    {
      "cell_type": "code",
      "metadata": {
        "id": "MvzE_G1MSUzM",
        "colab_type": "code",
        "colab": {}
      },
      "source": [
        "dir_ = '/content/drive/My Drive/Colab Notebooks/Face mask/dataset/new'\n",
        "os.chdir(dir_)"
      ],
      "execution_count": null,
      "outputs": []
    },
    {
      "cell_type": "code",
      "metadata": {
        "id": "NLq3j1sZSat8",
        "colab_type": "code",
        "colab": {}
      },
      "source": [
        "#images with mask\n",
        "imgs_with = os.listdir('with mask')\n",
        "#images without mask\n",
        "imgs_without = os.listdir('without mask')"
      ],
      "execution_count": null,
      "outputs": []
    },
    {
      "cell_type": "code",
      "metadata": {
        "id": "ckNOTevdDCEk",
        "colab_type": "code",
        "colab": {}
      },
      "source": [
        "if not os.path.isdir('train'):\n",
        "    os.mkdir('train')"
      ],
      "execution_count": null,
      "outputs": []
    },
    {
      "cell_type": "code",
      "metadata": {
        "id": "cTK8ywqNTCIp",
        "colab_type": "code",
        "colab": {}
      },
      "source": [
        "mtcnn = MTCNN()\n",
        "def face_extractor(items, from_, to):\n",
        "    '''\n",
        "    Extracts the face and saves it in another file\n",
        "\n",
        "    params: items: the images\n",
        "    params: from_: directory from where the data to be moved\n",
        "    params:    to: desired directory to move in the data\n",
        "    '''\n",
        " \n",
        "    for i in range(len(items)):\n",
        " \n",
        "        pic = Image.open('%s/%s'%(from_,items[i]))\n",
        "        tensor = t.ToTensor()\n",
        "        try:      \n",
        "            face = mtcnn.detect(pic)\n",
        " \n",
        "            tensor_img = tensor(pic)\n",
        "            \n",
        "            if face[0] is not None:\n",
        "                for x,y,w,h in face[0]:\n",
        "                    pass\n",
        "                x,y,w,h = r(x), r(y), r(w), r(h)       \n",
        " \n",
        "                pil = t.ToPILImage()(tensor_img[:,y:h, x:w])\n",
        "                #This way the dataset contains images above the size (130,130)
        "                if pil.size >= (130,130):\n",
        "                    pil.save('%s/%s'%(to, items[i]))\n",
        " \n",
        "        except:        \n",
        "            pass\n",
        "\n",
        "\n",
        "face_extractor(imgs_with, 'with mask', 'train/with mask')\n",
        "face_extractor(imgs_without, 'without mask', 'train/without mask')"
      ],
      "execution_count": null,
      "outputs": []
    }
  ]
}
