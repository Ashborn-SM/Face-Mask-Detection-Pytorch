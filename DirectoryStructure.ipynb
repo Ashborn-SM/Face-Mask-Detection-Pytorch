{
  "nbformat": 4,
  "nbformat_minor": 0,
  "metadata": {
    "colab": {
      "name": "DirectoryStructure.ipynb",
      "provenance": []
    },
    "kernelspec": {
      "name": "python3",
      "display_name": "Python 3"
    }
  },
  "cells": [
    {
      "cell_type": "markdown",
      "metadata": {
        "id": "dkSk2uFilchj",
        "colab_type": "text"
      },
      "source": [
        "directory of the dataset before.\n",
        "```\n",
        ".\n",
        "│─── dataset\n",
        "        └── with mask\n",
        "        └── without mask\n",
        "\n",
        "```\n",
        "directory of the dataset after(goal).\n",
        "```\n",
        ".\n",
        "│─── dataset\n",
        "        |──test\n",
        "        |  ├── with mask\n",
        "        |  └── without mask\n",
        "        |──test\n",
        "            ├── with mask\n",
        "            └── without mask\n",
        "\n",
        "```\n",
        "\n"
      ]
    },
    {
      "cell_type": "code",
      "metadata": {
        "id": "5fL95hhf53YX",
        "colab_type": "code",
        "colab": {}
      },
      "source": [
        "#Importing libraries\n",
        "import os, math\n",
        "from google.colab import drive"
      ],
      "execution_count": null,
      "outputs": []
    },
    {
      "cell_type": "code",
      "metadata": {
        "id": "bvro868C59Vq",
        "colab_type": "code",
        "colab": {
          "base_uri": "https://localhost:8080/",
          "height": 34
        },
        "outputId": "992f1842-3c70-45ff-b95e-dda110f4363c"
      },
      "source": [
        "drive.mount('/content/gdrive')\n",
        "dir_ = '/content/gdrive/My Drive/Colab Notebooks/Face mask/dataset'"
      ],
      "execution_count": null,
      "outputs": [
        {
          "output_type": "stream",
          "text": [
            "Mounted at /content/gdrive\n"
          ],
          "name": "stdout"
        }
      ]
    },
    {
      "cell_type": "code",
      "metadata": {
        "id": "_R0y19SDaszr",
        "colab_type": "code",
        "colab": {}
      },
      "source": [
        "#changing the directory to the dataset\n",
        "os.chdir(dir_)"
      ],
      "execution_count": null,
      "outputs": []
    },
    {
      "cell_type": "code",
      "metadata": {
        "id": "33WWDgPs6kOY",
        "colab_type": "code",
        "colab": {}
      },
      "source": [
        "def folder_maker(folder_names):\n",
        "    '''\n",
        "    This functions creates a new folder.\n",
        "\n",
        "    params: folders: folder name\n",
        "    return: None\n",
        "    '''\n",
        "    for x in folder_names:\n",
        "        #checking if the folder exist or not\n",
        "        if not os.path.isdir(x):\n",
        "            os.mkdir(x)\n",
        "        else:\n",
        "            pass\n",
        "\n",
        "folder_names = ['test','train','train/with mask','train/without mask',\n",
        "           'test/with mask', 'test/without mask']\n",
        "\n",
        "\n",
        "folder_maker(folder_names)"
      ],
      "execution_count": null,
      "outputs": []
    },
    {
      "cell_type": "code",
      "metadata": {
        "id": "aS26T41jKAe4",
        "colab_type": "code",
        "colab": {}
      },
      "source": [
        "#getting the images from the folders\n",
        "with_mask_dir = os.listdir('with mask')\n",
        "without_mask_dir = os.listdir('without mask')"
      ],
      "execution_count": null,
      "outputs": []
    },
    {
      "cell_type": "code",
      "metadata": {
        "id": "WTwkEPv0IVS-",
        "colab_type": "code",
        "colab": {}
      },
      "source": [
        "#12% of the data will be for the test dataset\n",
        "test_size_with = math.ceil(len(with_mask_dir)*12/100)\n",
        "test_size_without = math.ceil(len(without_mask_dir)*12/100)"
      ],
      "execution_count": null,
      "outputs": []
    },
    {
      "cell_type": "code",
      "metadata": {
        "id": "0ssxVk2yIzsJ",
        "colab_type": "code",
        "colab": {}
      },
      "source": [
        "def move_withRange(items,range,from_, to):\n",
        "    '''\n",
        "    This function will move the data from one\n",
        "    directory to other.\n",
        "\n",
        "    params: items: the images\n",
        "    params: range: number of data to move\n",
        "    params: from_: directory from where the data to be moved\n",
        "    params:    to: desired directory to move in the data\n",
        "    '''\n",
        "    for img_name in items[:range]:\n",
        "        os.replace('%s/%s'%(from_, img_name), '%s/%s'%(to,img_name))\n",
        "\n",
        "move_withRange(without_mask_dir, test_size_without, 'without mask', 'test/without mask')\n",
        "move_withRange(with_mask_dir, test_size_with, 'with mask', 'test/with mask')"
      ],
      "execution_count": null,
      "outputs": []
    },
    {
      "cell_type": "code",
      "metadata": {
        "id": "MaVFMkPogwvZ",
        "colab_type": "code",
        "colab": {}
      },
      "source": [
        "def move(items,from_, to):\n",
        "    '''\n",
        "    This is similar to the other fn but this\n",
        "    function will move the entier data.\n",
        "    '''\n",
        "    for img_name in items:\n",
        "            os.replace('%s/%s'%(from_, img_name), '%s/%s'%(to,img_name))\n",
        "\n",
        "move(with_mask_dir, 'with mask', 'train/with mask')\n",
        "move(without_mask_dir, 'without mask', 'train/without mask')"
      ],
      "execution_count": null,
      "outputs": []
    },
    {
      "cell_type": "code",
      "metadata": {
        "id": "GGFR-kR8j9YG",
        "colab_type": "code",
        "colab": {}
      },
      "source": [
        ""
      ],
      "execution_count": null,
      "outputs": []
    }
  ]
}