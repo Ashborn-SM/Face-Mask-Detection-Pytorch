{
  "nbformat": 4,
  "nbformat_minor": 0,
  "metadata": {
    "colab": {
      "name": "testingCNNmodels.ipynb",
      "provenance": []
    },
    "kernelspec": {
      "name": "python3",
      "display_name": "Python 3"
    },
    "accelerator": "GPU"
  },
  "cells": [
    {
      "cell_type": "markdown",
      "metadata": {
        "id": "aE_n-CoyFgj_",
        "colab_type": "text"
      },
      "source": [
        "Testing both the custom built ResNet9 and ResNet15"
      ]
    },
    {
      "cell_type": "code",
      "metadata": {
        "id": "ekZHJ2hz02An",
        "colab_type": "code",
        "colab": {
          "base_uri": "https://localhost:8080/",
          "height": 122
        },
        "outputId": "a44728cb-57cd-4191-a4f3-4d6c3f359d43"
      },
      "source": [
        "#Importing libraries\n",
        "import matplotlib.pyplot as plt\n",
        "from google.colab import drive\n",
        "import torch\n",
        "from torch.utils.data import DataLoader\n",
        "drive.mount('/content/gdrive')"
      ],
      "execution_count": 1,
      "outputs": [
        {
          "output_type": "stream",
          "text": [
            "Go to this URL in a browser: https://accounts.google.com/o/oauth2/auth?client_id=947318989803-6bn6qk8qdgf4n4g3pfee6491hc0brc4i.apps.googleusercontent.com&redirect_uri=urn%3aietf%3awg%3aoauth%3a2.0%3aoob&response_type=code&scope=email%20https%3a%2f%2fwww.googleapis.com%2fauth%2fdocs.test%20https%3a%2f%2fwww.googleapis.com%2fauth%2fdrive%20https%3a%2f%2fwww.googleapis.com%2fauth%2fdrive.photos.readonly%20https%3a%2f%2fwww.googleapis.com%2fauth%2fpeopleapi.readonly\n",
            "\n",
            "Enter your authorization code:\n",
            "··········\n",
            "Mounted at /content/gdrive\n"
          ],
          "name": "stdout"
        }
      ]
    },
    {
      "cell_type": "code",
      "metadata": {
        "id": "rT7LPviX1Vjf",
        "colab_type": "code",
        "colab": {
          "base_uri": "https://localhost:8080/",
          "height": 170
        },
        "outputId": "13cc47d0-d20b-4d4b-b93f-ed812840ce1b"
      },
      "source": [
        "!pip install import_ipynb\n",
        "import import_ipynb"
      ],
      "execution_count": 2,
      "outputs": [
        {
          "output_type": "stream",
          "text": [
            "Collecting import_ipynb\n",
            "  Downloading https://files.pythonhosted.org/packages/63/35/495e0021bfdcc924c7cdec4e9fbb87c88dd03b9b9b22419444dc370c8a45/import-ipynb-0.1.3.tar.gz\n",
            "Building wheels for collected packages: import-ipynb\n",
            "  Building wheel for import-ipynb (setup.py) ... \u001b[?25l\u001b[?25hdone\n",
            "  Created wheel for import-ipynb: filename=import_ipynb-0.1.3-cp36-none-any.whl size=2976 sha256=fd14f250ef23f4ca18b073df946cb5f6d0772d59424f2d0fb5f74412673e241b\n",
            "  Stored in directory: /root/.cache/pip/wheels/b4/7b/e9/a3a6e496115dffdb4e3085d0ae39ffe8a814eacc44bbf494b5\n",
            "Successfully built import-ipynb\n",
            "Installing collected packages: import-ipynb\n",
            "Successfully installed import-ipynb-0.1.3\n"
          ],
          "name": "stdout"
        }
      ]
    },
    {
      "cell_type": "code",
      "metadata": {
        "id": "eN4tayU_0_Vm",
        "colab_type": "code",
        "colab": {
          "base_uri": "https://localhost:8080/",
          "height": 34
        },
        "outputId": "b3ea6cd8-02d8-4deb-b576-a8e1836cf030"
      },
      "source": [
        "%cd '/content/gdrive/My Drive/Colab Notebooks/Face mask'"
      ],
      "execution_count": 3,
      "outputs": [
        {
          "output_type": "stream",
          "text": [
            "/content/gdrive/My Drive/Colab Notebooks/Face mask\n"
          ],
          "name": "stdout"
        }
      ]
    },
    {
      "cell_type": "code",
      "metadata": {
        "id": "EG9fFAf51MJu",
        "colab_type": "code",
        "colab": {
          "base_uri": "https://localhost:8080/",
          "height": 51
        },
        "outputId": "ad05f218-3e06-49bf-fcac-4862dd7c7039"
      },
      "source": [
        "#importing modules\n",
        "from CNN import ResNet9, ResNet15\n",
        "from DataPreprocessing import Preprocessing"
      ],
      "execution_count": 4,
      "outputs": [
        {
          "output_type": "stream",
          "text": [
            "importing Jupyter notebook from CNN.ipynb\n",
            "importing Jupyter notebook from DataPreprocessing.ipynb\n"
          ],
          "name": "stdout"
        }
      ]
    },
    {
      "cell_type": "code",
      "metadata": {
        "id": "Mpo7k2Zv1jLc",
        "colab_type": "code",
        "colab": {}
      },
      "source": [
        "device = torch.device('cuda')"
      ],
      "execution_count": 5,
      "outputs": []
    },
    {
      "cell_type": "code",
      "metadata": {
        "id": "PlSWlDR20yBB",
        "colab_type": "code",
        "colab": {
          "base_uri": "https://localhost:8080/",
          "height": 34
        },
        "outputId": "7cc4b190-ddbb-4dd3-bc0e-ecffb1a328f7"
      },
      "source": [
        "#model and loading the state_dict\n",
        "model15 = ResNet15(1,2).to(device)\n",
        "model9 = ResNet9(1,2).to(device)\n",
        "model15.load_state_dict(torch.load('state_dict_resnet15.pth'))\n",
        "model9.load_state_dict(torch.load('state_dict_resnet9.pth'))"
      ],
      "execution_count": 6,
      "outputs": [
        {
          "output_type": "execute_result",
          "data": {
            "text/plain": [
              "<All keys matched successfully>"
            ]
          },
          "metadata": {
            "tags": []
          },
          "execution_count": 6
        }
      ]
    },
    {
      "cell_type": "code",
      "metadata": {
        "id": "g7UoC0s12azM",
        "colab_type": "code",
        "colab": {}
      },
      "source": [
        "data = Preprocessing(path={'test':'dataset/test',\n",
        "                          'train':'dataset/train'})\n",
        "_, test_ds = data.preprocessed_dataset()\n",
        "test_dl = DataLoader(test_ds, 10, num_workers=3,\n",
        "                      pin_memory=True)"
      ],
      "execution_count": 8,
      "outputs": []
    },
    {
      "cell_type": "code",
      "metadata": {
        "id": "fGmtIgV62MmX",
        "colab_type": "code",
        "colab": {
          "base_uri": "https://localhost:8080/",
          "height": 241
        },
        "outputId": "e714dac9-9f07-4843-a96f-46744fe6b907"
      },
      "source": [
        "#testing\n",
        "accuracy9 = []\n",
        "accuracy15 = []\n",
        "for x, y in test_dl:\n",
        "    x, y = x.to(device), y.to(device)\n",
        "    _, label15 = torch.max(torch.exp(model15(x)), dim=1)\n",
        "    _, label9 = torch.max(torch.exp(model9(x)), dim=1)\n",
        "    acc9 = torch.sum(label9 == y).item()/len(y)\n",
        "    acc15 = torch.sum(label15 == y).item()/len(y)\n",
        "    accuracy9.append(acc9)\n",
        "    accuracy15.append(acc15)\n",
        "    print('ResNet9: {}, ResNet15: {}'.format(acc9, acc15))\n",
        "    "
      ],
      "execution_count": 9,
      "outputs": [
        {
          "output_type": "stream",
          "text": [
            "/usr/local/lib/python3.6/dist-packages/torch/nn/modules/container.py:100: UserWarning: Implicit dimension choice for log_softmax has been deprecated. Change the call to include dim=X as an argument.\n",
            "  input = module(input)\n"
          ],
          "name": "stderr"
        },
        {
          "output_type": "stream",
          "text": [
            "ResNet9: 0.8, ResNet15: 1.0\n",
            "ResNet9: 0.8, ResNet15: 1.0\n",
            "ResNet9: 1.0, ResNet15: 1.0\n",
            "ResNet9: 0.9, ResNet15: 1.0\n",
            "ResNet9: 0.9, ResNet15: 0.9\n",
            "ResNet9: 1.0, ResNet15: 0.7\n",
            "ResNet9: 0.8, ResNet15: 0.9\n",
            "ResNet9: 1.0, ResNet15: 0.9\n",
            "ResNet9: 0.9, ResNet15: 0.8\n",
            "ResNet9: 0.8888888888888888, ResNet15: 0.7777777777777778\n"
          ],
          "name": "stdout"
        }
      ]
    },
    {
      "cell_type": "code",
      "metadata": {
        "id": "eMnJcrGZ3sPC",
        "colab_type": "code",
        "colab": {
          "base_uri": "https://localhost:8080/",
          "height": 312
        },
        "outputId": "3e2774d7-291e-4e95-9feb-0b4cddcdaa38"
      },
      "source": [
        "plt.plot(accuracy9, 'r--x', markersize=8, markeredgewidth=3\n",
        "         , linewidth=3,label='ResNet9')\n",
        "plt.plot(accuracy15, 'c-1', markersize=12, markeredgewidth=3\n",
        "         , linewidth=2,label='ResNet15')\n",
        "plt.grid()\n",
        "plt.title('Accuracy: ResNet9 vs ResNet15')\n",
        "plt.xlabel('batches')\n",
        "plt.ylabel('Accuracy')\n",
        "plt.legend(loc='lower right')\n"
      ],
      "execution_count": 10,
      "outputs": [
        {
          "output_type": "execute_result",
          "data": {
            "text/plain": [
              "<matplotlib.legend.Legend at 0x7fd3b50dab00>"
            ]
          },
          "metadata": {
            "tags": []
          },
          "execution_count": 10
        },
        {
          "output_type": "display_data",
          "data": {
            "image/png": "[encoded data removed]",
            "text/plain": [
              "<Figure size 432x288 with 1 Axes>"
            ]
          },
          "metadata": {
            "tags": [],
            "needs_background": "light"
          }
        }
      ]
    }
  ]
}