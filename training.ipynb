{
  "nbformat": 4,
  "nbformat_minor": 0,
  "metadata": {
    "colab": {
      "name": "training.ipynb",
      "provenance": [],
      "collapsed_sections": [],
      "toc_visible": true
    },
    "kernelspec": {
      "name": "python3",
      "display_name": "Python 3"
    },
    "accelerator": "GPU"
  },
  "cells": [
    {
      "cell_type": "markdown",
      "metadata": {
        "id": "sVbYgY3Rb8UL",
        "colab_type": "text"
      },
      "source": [
        "#Training\n",
        "\n",
        "\n"
      ]
    },
    {
      "cell_type": "code",
      "metadata": {
        "id": "Hv2tuwUsb66A",
        "colab_type": "code",
        "colab": {}
      },
      "source": [
        "#Importing libraries\n",
        "import torch\n",
        "import torch.nn as nn\n",
        "from torchvision.utils import make_grid\n",
        "import matplotlib.pyplot as plt\n",
        "from torch.utils.data import DataLoader, random_split\n",
        "import numpy as np\n",
        "import math"
      ],
      "execution_count": null,
      "outputs": []
    },
    {
      "cell_type": "code",
      "metadata": {
        "id": "6fcJ9D9d-LnQ",
        "colab_type": "code",
        "colab": {
          "base_uri": "https://localhost:8080/",
          "height": 34
        },
        "outputId": "aa881b03-e93f-4c54-84eb-cd383a59069b"
      },
      "source": [
        "#Libraries for importing ipynb file\n",
        "from google.colab import drive, files\n",
        "!pip install import_ipynb\n",
        "import import_ipynb"
      ],
      "execution_count": null,
      "outputs": [
        {
          "output_type": "stream",
          "text": [
            "Requirement already satisfied: import_ipynb in /usr/local/lib/python3.6/dist-packages (0.1.3)\n"
          ],
          "name": "stdout"
        }
      ]
    },
    {
      "cell_type": "code",
      "metadata": {
        "id": "RF4q-TuDdMn9",
        "colab_type": "code",
        "colab": {
          "base_uri": "https://localhost:8080/",
          "height": 34
        },
        "outputId": "ae8441c3-9d4a-4d27-f469-1c50de3fc52e"
      },
      "source": [
        "#Mounting \n",
        "drive.mount('/content/gdrive')"
      ],
      "execution_count": null,
      "outputs": [
        {
          "output_type": "stream",
          "text": [
            "Mounted at /content/gdrive\n"
          ],
          "name": "stdout"
        }
      ]
    },
    {
      "cell_type": "code",
      "metadata": {
        "id": "WAEds0OKelYd",
        "colab_type": "code",
        "colab": {
          "base_uri": "https://localhost:8080/",
          "height": 68
        },
        "outputId": "38f771a3-aaa1-447a-d4d7-00df7400f28c"
      },
      "source": [
        "\n",
        "#Location of Datapreprocessing file is in Colab Notebooks folder\n",
        "#Changing the directory to Colab Notebooks\n",
        "%cd '/content/gdrive/My Drive/Colab Notebooks/Face mask/new'\n",
        "from DataPreprocessing import Preprocessing\n",
        "from CNN import ResNet15, ResNet9"
      ],
      "execution_count": null,
      "outputs": [
        {
          "output_type": "stream",
          "text": [
            "/content/gdrive/My Drive/Colab Notebooks/Face mask\n",
            "importing Jupyter notebook from DataPreprocessing.ipynb\n",
            "importing Jupyter notebook from CNN.ipynb\n"
          ],
          "name": "stdout"
        }
      ]
    },
    {
      "cell_type": "code",
      "metadata": {
        "id": "k2mkHfYYlZUK",
        "colab_type": "code",
        "colab": {}
      },
      "source": [
        "#Directory of the dataset\n",
        "directory = 'dataset'"
      ],
      "execution_count": null,
      "outputs": []
    },
    {
      "cell_type": "code",
      "metadata": {
        "id": "2FXUNgRgyXRy",
        "colab_type": "code",
        "colab": {}
      },
      "source": [
        "data = Preprocessing(path = {'test':directory+'/test',\n",
        "                          'train':directory+'/train'})\n",
        "train_ds, test_ds = data.preprocessed_dataset()"
      ],
      "execution_count": null,
      "outputs": []
    },
    {
      "cell_type": "code",
      "metadata": {
        "id": "i_jtQSbPrVPy",
        "colab_type": "code",
        "colab": {}
      },
      "source": [
        "#Splitting and creating batches of data\n",
        "batch_size = 20\n",
        "val_size = math.ceil(len(test_ds)* 20/100)\n",
        "test_size = len(test_ds) - val_size \n",
        "\n",
        "#splitting the data\n",
        "val_ds, test_ds = random_split(test_ds, [val_size, test_size])\n",
        "\n",
        "#creating data loader\n",
        "train_dl = DataLoader(train_ds, batch_size, num_workers=3, shuffle = True,\n",
        "                     pin_memory=True)\n",
        "val_dl = DataLoader(val_ds, batch_size, num_workers=3,\n",
        "                      pin_memory=True)\n"
      ],
      "execution_count": null,
      "outputs": []
    },
    {
      "cell_type": "code",
      "metadata": {
        "id": "6i-i4jQa0t3W",
        "colab_type": "code",
        "colab": {}
      },
      "source": [
        "x,y = next(iter(train_dl))"
      ],
      "execution_count": null,
      "outputs": []
    },
    {
      "cell_type": "code",
      "metadata": {
        "id": "KcDR8q8Bci4-",
        "colab_type": "code",
        "colab": {
          "base_uri": "https://localhost:8080/",
          "height": 154
        },
        "outputId": "3a641101-630d-44b9-addb-126e83eb97b5"
      },
      "source": [
        "\n",
        "#Visualizing \n",
        "fig, ax = plt.subplots(figsize=(12,12))\n",
        "ax.imshow(make_grid(x[:10], nrow=10).permute(1,2,0))\n",
        "x.shape"
      ],
      "execution_count": null,
      "outputs": [
        {
          "output_type": "stream",
          "text": [
            "Clipping input data to the valid range for imshow with RGB data ([0..1] for floats or [0..255] for integers).\n"
          ],
          "name": "stderr"
        },
        {
          "output_type": "execute_result",
          "data": {
            "text/plain": [
              "torch.Size([20, 1, 128, 128])"
            ]
          },
          "metadata": {
            "tags": []
          },
          "execution_count": 9
        },
        {
          "output_type": "display_data",
          "data": {
            "image/png": "[encoded data removed]",
            "text/plain": [
              "<Figure size 864x864 with 1 Axes>"
            ]
          },
          "metadata": {
            "tags": [],
            "needs_background": "light"
          }
        }
      ]
    },
    {
      "cell_type": "code",
      "metadata": {
        "id": "8rLp7Toowj6l",
        "colab_type": "code",
        "colab": {}
      },
      "source": [
        "#Activating cuda\n",
        "                            #Uses cuda if available else cpu\n",
        "device = torch.device('cuda' if torch.cuda.is_available() else 'cpu')"
      ],
      "execution_count": null,
      "outputs": []
    },
    {
      "cell_type": "code",
      "metadata": {
        "id": "iSBT4xHs-dl9",
        "colab_type": "code",
        "colab": {}
      },
      "source": [
        "model = ResNet9(1,2).to(device)"
      ],
      "execution_count": null,
      "outputs": []
    },
    {
      "cell_type": "code",
      "metadata": {
        "id": "s9AI7OZ5G3wJ",
        "colab_type": "code",
        "colab": {}
      },
      "source": [
        "def get_lr(optimizer):\n",
        "    '''\n",
        "    params: optimizer: optimizer of the model\n",
        "    return: learning rate\n",
        "    '''\n",
        "    \n",
        "    for x in optimizer.param_groups:\n",
        "        return x['lr']"
      ],
      "execution_count": null,
      "outputs": []
    },
    {
      "cell_type": "code",
      "metadata": {
        "id": "gNczvHaq_iWy",
        "colab_type": "code",
        "colab": {}
      },
      "source": [
        "def fit(model, epochs, max_lr, train_dl, val_dl, weight_decay=0, \n",
        "        optim = torch.optim.Adam, grad_clip = None):\n",
        "    '''\n",
        "    Arguments:\n",
        "\n",
        "    model --> CNN model\n",
        "    epochs --> number of epoch\n",
        "    max_lr --> max learning rate for One-cycle lr scheduler\n",
        "    train_dl, val_dl --> training and validation dataloader\n",
        "    weight_decay --> regularizing parametric(reduces the weights to avoid \n",
        "                                                                    overfitting)\n",
        "    optim --> optimizer\n",
        "    grad_clip --> regularizing parametric(limit the values of gradients to a \n",
        "                                                                    small range)\n",
        "    \n",
        "    Return:\n",
        "\n",
        "    history --> {\n",
        "                training_loss --> training loss for every epochs\n",
        "                validation_loss --> validation loss for every epochs\n",
        "                validation_acc --> validation accuracy for every epochs\n",
        "                }\n",
        "    '''\n",
        "    model.train() #training\n",
        "    torch.cuda.empty_cache() #releases cache memory improves performance\n",
        "\n",
        "    #Defining optimizer and loss\n",
        "    optimizer = optim(model.parameters(), max_lr, weight_decay = weight_decay)\n",
        "    criterion = nn.NLLLoss()\n",
        "\n",
        "    #One-cycle learning rate scheduler\n",
        "    sched = torch.optim.lr_scheduler.OneCycleLR(optimizer, max_lr,\n",
        "                            steps_per_epoch = len(train_dl) ,epochs = epochs)\n",
        "\n",
        "    val_loss_min = np.inf #initial value at infinity\n",
        "\n",
        "    history = {\n",
        "        'training_loss': [], #training loss for every epochs\n",
        "        'validation_loss': [], #validation loss for every epochs\n",
        "        'validation_acc': [], #validation accuracy for every epochs\n",
        "        'learning_rates': [] #lr for every epochs   \n",
        "        }\n",
        "     \n",
        "    for epoch in range(epochs):\n",
        "\n",
        "        batch_train_loss = 0 #training loss for every batch\n",
        "        batch_val_loss = 0 #validation loss for every batch\n",
        "        batch_val_acc = 0 #valdation acc for every batch\n",
        "\n",
        "        #looping through training dataloader\n",
        "        for imgs, labels in train_dl:\n",
        "\n",
        "            #Sending images and labels to GPU\n",
        "            imgs, labels = imgs.to(device), labels.to(device)\n",
        "\n",
        "            predictions = model(imgs)\n",
        "            loss = criterion(predictions, labels)\n",
        "            batch_train_loss += loss\n",
        "            loss.backward()\n",
        "\n",
        "            #gradient clipping\n",
        "            if grad_clip:\n",
        "                nn.utils.clip_grad_value_(model.parameters(), grad_clip)\n",
        "        \n",
        "            optimizer.step()\n",
        "            optimizer.zero_grad()\n",
        "            \n",
        "            #record and update lr\n",
        "            history['learning_rates'].append(get_lr(optimizer))\n",
        "            sched.step()\n",
        "\n",
        "        #shutting down the gradients\n",
        "        with torch.no_grad():\n",
        "            model.eval() #for evaluating\n",
        "\n",
        "            #looping through validation dataloader\n",
        "            for imgs, labels in val_dl:\n",
        "                #Sending images and labels to GPU\n",
        "                imgs, labels = imgs.to(device), labels.to(device)\n",
        "\n",
        "                predictions = model(imgs)\n",
        "                loss = criterion(predictions, labels)              \n",
        "\n",
        "                #Converting predictions to probabilities\n",
        "                prob = torch.exp(predictions)\n",
        "                #Finding the index of maximum probability\n",
        "                _, index = torch.max(prob, dim=1)\n",
        "                \n",
        "                batch_val_loss += loss.item()\n",
        "                batch_val_acc += torch.sum(index == labels).item() / len(index)\n",
        "        \n",
        "        #loss and accuracy per epoch\n",
        "        training_loss = batch_train_loss / len(train_dl)\n",
        "        val_loss = batch_val_loss / len(val_dl)\n",
        "        val_acc = batch_val_acc / len(val_dl)\n",
        "\n",
        "        history['training_loss'].append(training_loss)\n",
        "        history['validation_loss'].append(val_loss)\n",
        "        history['validation_acc'].append(val_acc)\n",
        "\n",
        "        #Verbose\n",
        "        print('Epochs: {}, training_loss: {:.4f}, val_loss: {:.4f},\\\n",
        " val_acc: {:.4f}'.format(epoch, training_loss, val_loss, val_acc))\n",
        "        \n",
        "        if val_loss <= val_loss_min:\n",
        "            '''\n",
        "            Initailly the val_loss_min is set at infinity and gets \n",
        "            updated each time val_loss is lesser than val_loss_min.\n",
        "            Basically it saves the model with least validation loss.\n",
        "            '''            \n",
        "            torch.save(model.state_dict(), 'state_dict_resnet9.pth')\n",
        "            print('{} --> {}. Saving ...'.format(val_loss_min, val_loss))\n",
        "            val_loss_min = val_loss\n",
        "\n",
        "    return history\n",
        "    "
      ],
      "execution_count": null,
      "outputs": []
    },
    {
      "cell_type": "code",
      "metadata": {
        "id": "ZlGBZSj9CfaI",
        "colab_type": "code",
        "colab": {
          "base_uri": "https://localhost:8080/",
          "height": 326
        },
        "outputId": "243435e2-dbbd-48f8-e5fe-acbd46f35656"
      },
      "source": [
        "history = fit(model, 10, 0.0001, train_dl, val_dl, weight_decay=0.01, \n",
        "        optim = torch.optim.Adam, grad_clip = 0.1)"
      ],
      "execution_count": null,
      "outputs": [
        {
          "output_type": "stream",
          "text": [
            "/usr/local/lib/python3.6/dist-packages/torch/nn/modules/container.py:100: UserWarning: Implicit dimension choice for log_softmax has been deprecated. Change the call to include dim=X as an argument.\n",
            "  input = module(input)\n"
          ],
          "name": "stderr"
        },
        {
          "output_type": "stream",
          "text": [
            "Epochs: 0, training_loss: 1.1460, val_loss: 0.2883, val_acc: 0.9000\n",
            "inf --> 0.2882944643497467. Saving ...\n",
            "Epochs: 1, training_loss: 0.3747, val_loss: 0.0648, val_acc: 1.0000\n",
            "0.2882944643497467 --> 0.06478280574083328. Saving ...\n",
            "Epochs: 2, training_loss: 0.1320, val_loss: 0.1003, val_acc: 1.0000\n",
            "Epochs: 3, training_loss: 0.1161, val_loss: 0.0954, val_acc: 0.9500\n",
            "Epochs: 4, training_loss: 0.0595, val_loss: 0.0122, val_acc: 1.0000\n",
            "0.06478280574083328 --> 0.012150990776717663. Saving ...\n",
            "Epochs: 5, training_loss: 0.0521, val_loss: 0.0022, val_acc: 1.0000\n",
            "0.012150990776717663 --> 0.002183937933295965. Saving ...\n",
            "Epochs: 6, training_loss: 0.0207, val_loss: 0.0057, val_acc: 1.0000\n",
            "Epochs: 7, training_loss: 0.0162, val_loss: 0.0021, val_acc: 1.0000\n",
            "0.002183937933295965 --> 0.0020512579940259457. Saving ...\n",
            "Epochs: 8, training_loss: 0.0102, val_loss: 0.0037, val_acc: 1.0000\n",
            "Epochs: 9, training_loss: 0.0083, val_loss: 0.0028, val_acc: 1.0000\n"
          ],
          "name": "stdout"
        }
      ]
    },
    {
      "cell_type": "code",
      "metadata": {
        "id": "tA52b5f3kX5C",
        "colab_type": "code",
        "colab": {}
      },
      "source": [
        "training_loss = history['training_loss']\n",
        "val_loss = history['validation_loss']\n",
        "val_acc = history['validation_acc']\n",
        "lr = history['learning_rates']"
      ],
      "execution_count": null,
      "outputs": []
    },
    {
      "cell_type": "code",
      "metadata": {
        "id": "T4B79tghpt6z",
        "colab_type": "code",
        "colab": {
          "base_uri": "https://localhost:8080/",
          "height": 448
        },
        "outputId": "a74fe9d8-0b58-4847-ef4f-a25acc9f70de"
      },
      "source": [
        "plt.figure(figsize=(10,7))\n",
        "plt.plot(val_loss, 'b-1', markersize=12, markeredgewidth=3\n",
        "         , linewidth=2,label='val_loss')\n",
        "plt.plot(val_acc, 'r--x', markersize=8, markeredgewidth=3\n",
        "         , linewidth=3,label='val_acc')\n",
        "plt.plot(training_loss, 'c-1', markersize=12, markeredgewidth=3\n",
        "         , linewidth=2,label='training_loss')\n",
        "plt.grid()\n",
        "plt.legend(loc='center right')"
      ],
      "execution_count": null,
      "outputs": [
        {
          "output_type": "execute_result",
          "data": {
            "text/plain": [
              "<matplotlib.legend.Legend at 0x7f7461bc8358>"
            ]
          },
          "metadata": {
            "tags": []
          },
          "execution_count": 16
        },
        {
          "output_type": "display_data",
          "data": {
            "image/png": "[encoded data removed]",
            "text/plain": [
              "<Figure size 720x504 with 1 Axes>"
            ]
          },
          "metadata": {
            "tags": [],
            "needs_background": "light"
          }
        }
      ]
    },
    {
      "cell_type": "code",
      "metadata": {
        "id": "nmnYlGVxp_RM",
        "colab_type": "code",
        "colab": {
          "base_uri": "https://localhost:8080/",
          "height": 282
        },
        "outputId": "b73f806f-de46-4618-b7a5-f072c7516437"
      },
      "source": [
        "plt.plot(lr,'r', label='lr')\n",
        "plt.legend()"
      ],
      "execution_count": null,
      "outputs": [
        {
          "output_type": "execute_result",
          "data": {
            "text/plain": [
              "<matplotlib.legend.Legend at 0x7f74620f0cf8>"
            ]
          },
          "metadata": {
            "tags": []
          },
          "execution_count": 17
        },
        {
          "output_type": "display_data",
          "data": {
            "image/png": "[encoded data removed]",
            "text/plain": [
              "<Figure size 432x288 with 1 Axes>"
            ]
          },
          "metadata": {
            "tags": [],
            "needs_background": "light"
          }
        }
      ]
    }
  ]
}